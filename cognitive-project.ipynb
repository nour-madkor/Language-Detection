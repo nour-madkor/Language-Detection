{
 "cells": [
  {
   "cell_type": "code",
   "execution_count": 37,
   "id": "5ab5b2ca",
   "metadata": {
    "_cell_guid": "b1076dfc-b9ad-4769-8c92-a6c4dae69d19",
    "_uuid": "8f2839f25d086af736a60e9eeb907d3b93b6e0e5",
    "execution": {
     "iopub.execute_input": "2024-05-06T21:10:50.653857Z",
     "iopub.status.busy": "2024-05-06T21:10:50.653003Z",
     "iopub.status.idle": "2024-05-06T21:10:53.986966Z",
     "shell.execute_reply": "2024-05-06T21:10:53.985663Z"
    },
    "papermill": {
     "duration": 3.348753,
     "end_time": "2024-05-06T21:10:53.990152",
     "exception": false,
     "start_time": "2024-05-06T21:10:50.641399",
     "status": "completed"
    },
    "tags": []
   },
   "outputs": [],
   "source": [
    "import numpy as np # linear algerbra\n",
    "import pandas as pd # data processing\n",
    "import matplotlib.pyplot as plt # plotting\n",
    "import seaborn as sns # plotting\n",
    "import json # data processing(.json)\n",
    "\n",
    "from sklearn.preprocessing import LabelEncoder # Creates placeholders for categorical variables\n",
    "from sklearn.feature_extraction.text import CountVectorizer # converts text into vector matrix\n",
    "from sklearn.model_selection import train_test_split # split data into training and testing sets\n",
    "from sklearn.naive_bayes import MultinomialNB # ML model for naive bayes\n",
    "from sklearn.metrics import accuracy_score, confusion_matrix # measure the accuracy of the model\n",
    "from sklearn.metrics import classification_report # classification report of the model\n",
    " \n",
    "\n",
    "from sklearn.linear_model import LogisticRegression\n",
    "from sklearn.ensemble import RandomForestClassifier\n",
    "\n",
    "\n",
    "\n",
    "%matplotlib inline \n",
    "# With this backend, the output of plotting commands is displayed inline within frontends\n",
    "# like the Jupyter notebook, directly below the code cell that produced it. The resulting \n",
    "# plots will then also be stored in the notebook document"
   ]
  },
  {
   "cell_type": "code",
   "execution_count": 38,
   "id": "61e451f5",
   "metadata": {
    "execution": {
     "iopub.execute_input": "2024-05-06T21:10:54.010035Z",
     "iopub.status.busy": "2024-05-06T21:10:54.009367Z",
     "iopub.status.idle": "2024-05-06T21:10:54.490187Z",
     "shell.execute_reply": "2024-05-06T21:10:54.488836Z"
    },
    "papermill": {
     "duration": 0.494571,
     "end_time": "2024-05-06T21:10:54.493591",
     "exception": false,
     "start_time": "2024-05-06T21:10:53.999020",
     "status": "completed"
    },
    "tags": []
   },
   "outputs": [],
   "source": [
    "df=pd.read_csv(r\"dataset.csv\")\n"
   ]
  },
  {
   "cell_type": "code",
   "execution_count": 39,
   "id": "e9fbe4fd",
   "metadata": {
    "execution": {
     "iopub.execute_input": "2024-05-06T21:10:54.513854Z",
     "iopub.status.busy": "2024-05-06T21:10:54.512645Z",
     "iopub.status.idle": "2024-05-06T21:10:54.539697Z",
     "shell.execute_reply": "2024-05-06T21:10:54.538486Z"
    },
    "papermill": {
     "duration": 0.040784,
     "end_time": "2024-05-06T21:10:54.543177",
     "exception": false,
     "start_time": "2024-05-06T21:10:54.502393",
     "status": "completed"
    },
    "tags": []
   },
   "outputs": [
    {
     "data": {
      "text/html": [
       "<div>\n",
       "<style scoped>\n",
       "    .dataframe tbody tr th:only-of-type {\n",
       "        vertical-align: middle;\n",
       "    }\n",
       "\n",
       "    .dataframe tbody tr th {\n",
       "        vertical-align: top;\n",
       "    }\n",
       "\n",
       "    .dataframe thead th {\n",
       "        text-align: right;\n",
       "    }\n",
       "</style>\n",
       "<table border=\"1\" class=\"dataframe\">\n",
       "  <thead>\n",
       "    <tr style=\"text-align: right;\">\n",
       "      <th></th>\n",
       "      <th>Text</th>\n",
       "      <th>language</th>\n",
       "    </tr>\n",
       "  </thead>\n",
       "  <tbody>\n",
       "    <tr>\n",
       "      <th>0</th>\n",
       "      <td>klement gottwaldi surnukeha palsameeriti ning ...</td>\n",
       "      <td>Estonian</td>\n",
       "    </tr>\n",
       "    <tr>\n",
       "      <th>1</th>\n",
       "      <td>sebes joseph pereira thomas  på eng the jesuit...</td>\n",
       "      <td>Swedish</td>\n",
       "    </tr>\n",
       "    <tr>\n",
       "      <th>2</th>\n",
       "      <td>ถนนเจริญกรุง อักษรโรมัน thanon charoen krung เ...</td>\n",
       "      <td>Thai</td>\n",
       "    </tr>\n",
       "    <tr>\n",
       "      <th>3</th>\n",
       "      <td>விசாகப்பட்டினம் தமிழ்ச்சங்கத்தை இந்துப் பத்திர...</td>\n",
       "      <td>Tamil</td>\n",
       "    </tr>\n",
       "    <tr>\n",
       "      <th>4</th>\n",
       "      <td>de spons behoort tot het geslacht haliclona en...</td>\n",
       "      <td>Dutch</td>\n",
       "    </tr>\n",
       "    <tr>\n",
       "      <th>...</th>\n",
       "      <td>...</td>\n",
       "      <td>...</td>\n",
       "    </tr>\n",
       "    <tr>\n",
       "      <th>21995</th>\n",
       "      <td>hors du terrain les années  et  sont des année...</td>\n",
       "      <td>French</td>\n",
       "    </tr>\n",
       "    <tr>\n",
       "      <th>21996</th>\n",
       "      <td>ใน พศ  หลักจากที่เสด็จประพาสแหลมมลายู ชวา อินเ...</td>\n",
       "      <td>Thai</td>\n",
       "    </tr>\n",
       "    <tr>\n",
       "      <th>21997</th>\n",
       "      <td>con motivo de la celebración del septuagésimoq...</td>\n",
       "      <td>Spanish</td>\n",
       "    </tr>\n",
       "    <tr>\n",
       "      <th>21998</th>\n",
       "      <td>年月，當時還只有歲的她在美國出道，以mai-k名義推出首張英文《baby i like》，由...</td>\n",
       "      <td>Chinese</td>\n",
       "    </tr>\n",
       "    <tr>\n",
       "      <th>21999</th>\n",
       "      <td>aprilie sonda spațială messenger a nasa și-a ...</td>\n",
       "      <td>Romanian</td>\n",
       "    </tr>\n",
       "  </tbody>\n",
       "</table>\n",
       "<p>22000 rows × 2 columns</p>\n",
       "</div>"
      ],
      "text/plain": [
       "                                                    Text  language\n",
       "0      klement gottwaldi surnukeha palsameeriti ning ...  Estonian\n",
       "1      sebes joseph pereira thomas  på eng the jesuit...   Swedish\n",
       "2      ถนนเจริญกรุง อักษรโรมัน thanon charoen krung เ...      Thai\n",
       "3      விசாகப்பட்டினம் தமிழ்ச்சங்கத்தை இந்துப் பத்திர...     Tamil\n",
       "4      de spons behoort tot het geslacht haliclona en...     Dutch\n",
       "...                                                  ...       ...\n",
       "21995  hors du terrain les années  et  sont des année...    French\n",
       "21996  ใน พศ  หลักจากที่เสด็จประพาสแหลมมลายู ชวา อินเ...      Thai\n",
       "21997  con motivo de la celebración del septuagésimoq...   Spanish\n",
       "21998  年月，當時還只有歲的她在美國出道，以mai-k名義推出首張英文《baby i like》，由...   Chinese\n",
       "21999   aprilie sonda spațială messenger a nasa și-a ...  Romanian\n",
       "\n",
       "[22000 rows x 2 columns]"
      ]
     },
     "execution_count": 39,
     "metadata": {},
     "output_type": "execute_result"
    }
   ],
   "source": [
    "df"
   ]
  },
  {
   "cell_type": "code",
   "execution_count": 40,
   "id": "8b6e4a27",
   "metadata": {
    "execution": {
     "iopub.execute_input": "2024-05-06T21:10:54.564124Z",
     "iopub.status.busy": "2024-05-06T21:10:54.562861Z",
     "iopub.status.idle": "2024-05-06T21:10:54.576365Z",
     "shell.execute_reply": "2024-05-06T21:10:54.575055Z"
    },
    "papermill": {
     "duration": 0.026944,
     "end_time": "2024-05-06T21:10:54.578906",
     "exception": false,
     "start_time": "2024-05-06T21:10:54.551962",
     "status": "completed"
    },
    "tags": []
   },
   "outputs": [
    {
     "data": {
      "text/plain": [
       "array(['estonian', 'swedish', 'thai', 'tamil', 'dutch', 'japanese',\n",
       "       'turkish', 'latin', 'urdu', 'indonesian', 'portugese', 'french',\n",
       "       'chinese', 'korean', 'hindi', 'spanish', 'pushto', 'persian',\n",
       "       'romanian', 'russian', 'english', 'arabic'], dtype=object)"
      ]
     },
     "execution_count": 40,
     "metadata": {},
     "output_type": "execute_result"
    }
   ],
   "source": [
    "df['language'].str.lower().unique()"
   ]
  },
  {
   "cell_type": "code",
   "execution_count": 41,
   "id": "ffdfb7f3",
   "metadata": {},
   "outputs": [
    {
     "data": {
      "text/plain": [
       "['arabic',\n",
       " 'azerbaijani',\n",
       " 'basque',\n",
       " 'bengali',\n",
       " 'catalan',\n",
       " 'chinese',\n",
       " 'danish',\n",
       " 'dutch',\n",
       " 'english',\n",
       " 'finnish',\n",
       " 'french',\n",
       " 'german',\n",
       " 'greek',\n",
       " 'hebrew',\n",
       " 'hinglish',\n",
       " 'hungarian',\n",
       " 'indonesian',\n",
       " 'italian',\n",
       " 'kazakh',\n",
       " 'nepali',\n",
       " 'norwegian',\n",
       " 'portuguese',\n",
       " 'romanian',\n",
       " 'russian',\n",
       " 'slovene',\n",
       " 'spanish',\n",
       " 'swedish',\n",
       " 'tajik',\n",
       " 'turkish']"
      ]
     },
     "execution_count": 41,
     "metadata": {},
     "output_type": "execute_result"
    }
   ],
   "source": [
    "import nltk\n",
    "from nltk.corpus import stopwords # stopwords\n",
    "#nltk.download('stopwords')\n",
    "stopwords.fileids()"
   ]
  },
  {
   "cell_type": "code",
   "execution_count": 42,
   "id": "43299d0e",
   "metadata": {
    "execution": {
     "iopub.execute_input": "2024-05-06T21:10:54.598755Z",
     "iopub.status.busy": "2024-05-06T21:10:54.598235Z",
     "iopub.status.idle": "2024-05-06T21:10:54.616566Z",
     "shell.execute_reply": "2024-05-06T21:10:54.615328Z"
    },
    "papermill": {
     "duration": 0.031388,
     "end_time": "2024-05-06T21:10:54.619109",
     "exception": false,
     "start_time": "2024-05-06T21:10:54.587721",
     "status": "completed"
    },
    "tags": []
   },
   "outputs": [
    {
     "data": {
      "text/plain": [
       "Text        0\n",
       "language    0\n",
       "dtype: int64"
      ]
     },
     "execution_count": 42,
     "metadata": {},
     "output_type": "execute_result"
    }
   ],
   "source": [
    "df.isnull().sum()\n"
   ]
  },
  {
   "cell_type": "code",
   "execution_count": 43,
   "id": "68486f99",
   "metadata": {
    "execution": {
     "iopub.execute_input": "2024-05-06T21:10:54.639671Z",
     "iopub.status.busy": "2024-05-06T21:10:54.639157Z",
     "iopub.status.idle": "2024-05-06T21:10:54.658455Z",
     "shell.execute_reply": "2024-05-06T21:10:54.657146Z"
    },
    "papermill": {
     "duration": 0.032918,
     "end_time": "2024-05-06T21:10:54.661101",
     "exception": false,
     "start_time": "2024-05-06T21:10:54.628183",
     "status": "completed"
    },
    "tags": []
   },
   "outputs": [
    {
     "data": {
      "text/plain": [
       "Estonian      1000\n",
       "Swedish       1000\n",
       "English       1000\n",
       "Russian       1000\n",
       "Romanian      1000\n",
       "Persian       1000\n",
       "Pushto        1000\n",
       "Spanish       1000\n",
       "Hindi         1000\n",
       "Korean        1000\n",
       "Chinese       1000\n",
       "French        1000\n",
       "Portugese     1000\n",
       "Indonesian    1000\n",
       "Urdu          1000\n",
       "Latin         1000\n",
       "Turkish       1000\n",
       "Japanese      1000\n",
       "Dutch         1000\n",
       "Tamil         1000\n",
       "Thai          1000\n",
       "Arabic        1000\n",
       "Name: language, dtype: int64"
      ]
     },
     "execution_count": 43,
     "metadata": {},
     "output_type": "execute_result"
    }
   ],
   "source": [
    "df[\"language\"].value_counts()\n"
   ]
  },
  {
   "cell_type": "code",
   "execution_count": 44,
   "id": "1de1d719",
   "metadata": {
    "execution": {
     "iopub.execute_input": "2024-05-06T21:10:54.682641Z",
     "iopub.status.busy": "2024-05-06T21:10:54.682208Z",
     "iopub.status.idle": "2024-05-06T21:10:54.704335Z",
     "shell.execute_reply": "2024-05-06T21:10:54.703101Z"
    },
    "papermill": {
     "duration": 0.036055,
     "end_time": "2024-05-06T21:10:54.706865",
     "exception": false,
     "start_time": "2024-05-06T21:10:54.670810",
     "status": "completed"
    },
    "tags": []
   },
   "outputs": [],
   "source": [
    "df = df.drop_duplicates(subset='Text')\n",
    "df = df.reset_index(drop=True)"
   ]
  },
  {
   "cell_type": "code",
   "execution_count": 45,
   "id": "eeafba56",
   "metadata": {
    "execution": {
     "iopub.execute_input": "2024-05-06T21:10:54.728316Z",
     "iopub.status.busy": "2024-05-06T21:10:54.727876Z",
     "iopub.status.idle": "2024-05-06T21:10:54.740929Z",
     "shell.execute_reply": "2024-05-06T21:10:54.739838Z"
    },
    "papermill": {
     "duration": 0.027089,
     "end_time": "2024-05-06T21:10:54.743518",
     "exception": false,
     "start_time": "2024-05-06T21:10:54.716429",
     "status": "completed"
    },
    "tags": []
   },
   "outputs": [
    {
     "data": {
      "text/plain": [
       "Chinese       1000\n",
       "Thai          1000\n",
       "English       1000\n",
       "Japanese      1000\n",
       "Turkish       1000\n",
       "Romanian      1000\n",
       "Urdu          1000\n",
       "Persian       1000\n",
       "Korean        1000\n",
       "Estonian       999\n",
       "Russian        999\n",
       "Arabic         998\n",
       "Portugese      997\n",
       "Spanish        996\n",
       "Dutch          996\n",
       "Pushto         993\n",
       "Swedish        992\n",
       "Hindi          990\n",
       "French         990\n",
       "Tamil          981\n",
       "Indonesian     975\n",
       "Latin          953\n",
       "Name: language, dtype: int64"
      ]
     },
     "execution_count": 45,
     "metadata": {},
     "output_type": "execute_result"
    }
   ],
   "source": [
    "df[\"language\"].value_counts()\n"
   ]
  },
  {
   "cell_type": "code",
   "execution_count": 46,
   "id": "466b7e1f",
   "metadata": {
    "execution": {
     "iopub.execute_input": "2024-05-06T21:10:54.766626Z",
     "iopub.status.busy": "2024-05-06T21:10:54.766198Z",
     "iopub.status.idle": "2024-05-06T21:10:54.778843Z",
     "shell.execute_reply": "2024-05-06T21:10:54.777555Z"
    },
    "papermill": {
     "duration": 0.028471,
     "end_time": "2024-05-06T21:10:54.781775",
     "exception": false,
     "start_time": "2024-05-06T21:10:54.753304",
     "status": "completed"
    },
    "tags": []
   },
   "outputs": [],
   "source": [
    "from sklearn.preprocessing import LabelEncoder\n",
    "le = LabelEncoder()\n",
    "df[\"language\"]=le.fit_transform(df[\"language\"])"
   ]
  },
  {
   "cell_type": "code",
   "execution_count": 47,
   "id": "72637489",
   "metadata": {
    "execution": {
     "iopub.execute_input": "2024-05-06T21:10:54.803640Z",
     "iopub.status.busy": "2024-05-06T21:10:54.803226Z",
     "iopub.status.idle": "2024-05-06T21:10:54.818943Z",
     "shell.execute_reply": "2024-05-06T21:10:54.817592Z"
    },
    "papermill": {
     "duration": 0.030067,
     "end_time": "2024-05-06T21:10:54.821874",
     "exception": false,
     "start_time": "2024-05-06T21:10:54.791807",
     "status": "completed"
    },
    "tags": []
   },
   "outputs": [
    {
     "name": "stdout",
     "output_type": "stream",
     "text": [
      "======================================================================================================================\n",
      "Unique Decoded Languages (Ascending Order): ['Arabic', 'Chinese', 'Dutch', 'English', 'Estonian', 'French', 'Hindi', 'Indonesian', 'Japanese', 'Korean', 'Latin', 'Persian', 'Portugese', 'Pushto', 'Romanian', 'Russian', 'Spanish', 'Swedish', 'Tamil', 'Thai', 'Turkish', 'Urdu']\n",
      "======================================================================================================================\n",
      "Unique Languages (Ascending Order): [0, 1, 2, 3, 4, 5, 6, 7, 8, 9, 10, 11, 12, 13, 14, 15, 16, 17, 18, 19, 20, 21]\n",
      "======================================================================================================================\n"
     ]
    }
   ],
   "source": [
    "decoded_languages = le.inverse_transform(df[\"language\"])\n",
    "df[\"decoded_language\"] = decoded_languages\n",
    "unique_decoded_languages = sorted(df[\"decoded_language\"].unique())\n",
    "unique_languages = sorted(df[\"language\"].unique())\n",
    "\n",
    "print(\"======================================================================================================================\")\n",
    "print(\"Unique Decoded Languages (Ascending Order):\", unique_decoded_languages)\n",
    "print(\"======================================================================================================================\")\n",
    "print(\"Unique Languages (Ascending Order):\", unique_languages)\n",
    "print(\"======================================================================================================================\")"
   ]
  },
  {
   "cell_type": "code",
   "execution_count": 48,
   "id": "3231535d",
   "metadata": {
    "execution": {
     "iopub.execute_input": "2024-05-06T21:10:54.844713Z",
     "iopub.status.busy": "2024-05-06T21:10:54.843583Z",
     "iopub.status.idle": "2024-05-06T21:10:54.864325Z",
     "shell.execute_reply": "2024-05-06T21:10:54.862862Z"
    },
    "papermill": {
     "duration": 0.03475,
     "end_time": "2024-05-06T21:10:54.866661",
     "exception": false,
     "start_time": "2024-05-06T21:10:54.831911",
     "status": "completed"
    },
    "tags": []
   },
   "outputs": [
    {
     "data": {
      "text/html": [
       "<div>\n",
       "<style scoped>\n",
       "    .dataframe tbody tr th:only-of-type {\n",
       "        vertical-align: middle;\n",
       "    }\n",
       "\n",
       "    .dataframe tbody tr th {\n",
       "        vertical-align: top;\n",
       "    }\n",
       "\n",
       "    .dataframe thead th {\n",
       "        text-align: right;\n",
       "    }\n",
       "</style>\n",
       "<table border=\"1\" class=\"dataframe\">\n",
       "  <thead>\n",
       "    <tr style=\"text-align: right;\">\n",
       "      <th></th>\n",
       "      <th>Text</th>\n",
       "      <th>language</th>\n",
       "      <th>decoded_language</th>\n",
       "    </tr>\n",
       "  </thead>\n",
       "  <tbody>\n",
       "    <tr>\n",
       "      <th>0</th>\n",
       "      <td>klement gottwaldi surnukeha palsameeriti ning ...</td>\n",
       "      <td>4</td>\n",
       "      <td>Estonian</td>\n",
       "    </tr>\n",
       "    <tr>\n",
       "      <th>1</th>\n",
       "      <td>sebes joseph pereira thomas  på eng the jesuit...</td>\n",
       "      <td>17</td>\n",
       "      <td>Swedish</td>\n",
       "    </tr>\n",
       "    <tr>\n",
       "      <th>2</th>\n",
       "      <td>ถนนเจริญกรุง อักษรโรมัน thanon charoen krung เ...</td>\n",
       "      <td>19</td>\n",
       "      <td>Thai</td>\n",
       "    </tr>\n",
       "    <tr>\n",
       "      <th>3</th>\n",
       "      <td>விசாகப்பட்டினம் தமிழ்ச்சங்கத்தை இந்துப் பத்திர...</td>\n",
       "      <td>18</td>\n",
       "      <td>Tamil</td>\n",
       "    </tr>\n",
       "    <tr>\n",
       "      <th>4</th>\n",
       "      <td>de spons behoort tot het geslacht haliclona en...</td>\n",
       "      <td>2</td>\n",
       "      <td>Dutch</td>\n",
       "    </tr>\n",
       "    <tr>\n",
       "      <th>...</th>\n",
       "      <td>...</td>\n",
       "      <td>...</td>\n",
       "      <td>...</td>\n",
       "    </tr>\n",
       "    <tr>\n",
       "      <th>21854</th>\n",
       "      <td>hors du terrain les années  et  sont des année...</td>\n",
       "      <td>5</td>\n",
       "      <td>French</td>\n",
       "    </tr>\n",
       "    <tr>\n",
       "      <th>21855</th>\n",
       "      <td>ใน พศ  หลักจากที่เสด็จประพาสแหลมมลายู ชวา อินเ...</td>\n",
       "      <td>19</td>\n",
       "      <td>Thai</td>\n",
       "    </tr>\n",
       "    <tr>\n",
       "      <th>21856</th>\n",
       "      <td>con motivo de la celebración del septuagésimoq...</td>\n",
       "      <td>16</td>\n",
       "      <td>Spanish</td>\n",
       "    </tr>\n",
       "    <tr>\n",
       "      <th>21857</th>\n",
       "      <td>年月，當時還只有歲的她在美國出道，以mai-k名義推出首張英文《baby i like》，由...</td>\n",
       "      <td>1</td>\n",
       "      <td>Chinese</td>\n",
       "    </tr>\n",
       "    <tr>\n",
       "      <th>21858</th>\n",
       "      <td>aprilie sonda spațială messenger a nasa și-a ...</td>\n",
       "      <td>14</td>\n",
       "      <td>Romanian</td>\n",
       "    </tr>\n",
       "  </tbody>\n",
       "</table>\n",
       "<p>21859 rows × 3 columns</p>\n",
       "</div>"
      ],
      "text/plain": [
       "                                                    Text  language  \\\n",
       "0      klement gottwaldi surnukeha palsameeriti ning ...         4   \n",
       "1      sebes joseph pereira thomas  på eng the jesuit...        17   \n",
       "2      ถนนเจริญกรุง อักษรโรมัน thanon charoen krung เ...        19   \n",
       "3      விசாகப்பட்டினம் தமிழ்ச்சங்கத்தை இந்துப் பத்திர...        18   \n",
       "4      de spons behoort tot het geslacht haliclona en...         2   \n",
       "...                                                  ...       ...   \n",
       "21854  hors du terrain les années  et  sont des année...         5   \n",
       "21855  ใน พศ  หลักจากที่เสด็จประพาสแหลมมลายู ชวา อินเ...        19   \n",
       "21856  con motivo de la celebración del septuagésimoq...        16   \n",
       "21857  年月，當時還只有歲的她在美國出道，以mai-k名義推出首張英文《baby i like》，由...         1   \n",
       "21858   aprilie sonda spațială messenger a nasa și-a ...        14   \n",
       "\n",
       "      decoded_language  \n",
       "0             Estonian  \n",
       "1              Swedish  \n",
       "2                 Thai  \n",
       "3                Tamil  \n",
       "4                Dutch  \n",
       "...                ...  \n",
       "21854           French  \n",
       "21855             Thai  \n",
       "21856          Spanish  \n",
       "21857          Chinese  \n",
       "21858         Romanian  \n",
       "\n",
       "[21859 rows x 3 columns]"
      ]
     },
     "execution_count": 48,
     "metadata": {},
     "output_type": "execute_result"
    }
   ],
   "source": [
    "df"
   ]
  },
  {
   "cell_type": "code",
   "execution_count": 49,
   "id": "073a2f79",
   "metadata": {
    "execution": {
     "iopub.execute_input": "2024-05-06T21:10:54.889435Z",
     "iopub.status.busy": "2024-05-06T21:10:54.888997Z",
     "iopub.status.idle": "2024-05-06T21:10:54.894365Z",
     "shell.execute_reply": "2024-05-06T21:10:54.893267Z"
    },
    "papermill": {
     "duration": 0.019968,
     "end_time": "2024-05-06T21:10:54.896871",
     "exception": false,
     "start_time": "2024-05-06T21:10:54.876903",
     "status": "completed"
    },
    "tags": []
   },
   "outputs": [],
   "source": [
    "# from nltk.corpus import stopwords\n",
    "# import re\n",
    "# import unicodedata\n",
    "# from bs4 import BeautifulSoup\n",
    "# def clean_text(text):\n",
    "\n",
    "#     # Remove accented characters\n",
    "#    # text = unicodedata.normalize('NFKD', text).encode('ascii', 'ignore').decode('utf-8', 'ignore')\n",
    "\n",
    "#     # Remove punctuation\n",
    "#     text = re.sub(r'[^a-zA-Z0-9]', '', text)\n",
    "\n",
    "#     # Remove irrelevant characters\n",
    "#     # text = re.sub(r'[^a-zA-Z]', '', text)\n",
    "\n",
    "#     # Remove extra whitespaces\n",
    "#     text = re.sub(r'\\s+', '', text).strip()\n",
    "\n",
    "#     # Remove stopwords\n",
    "    \n",
    "#     return text\n"
   ]
  },
  {
   "cell_type": "code",
   "execution_count": null,
   "id": "090ac145",
   "metadata": {},
   "outputs": [],
   "source": [
    "df."
   ]
  },
  {
   "cell_type": "code",
   "execution_count": 61,
   "id": "ec0c0732",
   "metadata": {},
   "outputs": [],
   "source": [
    "from nltk.tokenize import word_tokenize # tokenizer\n",
    "from nltk.stem import PorterStemmer # stemmer\n",
    "from nltk.corpus import stopwords # stopwords\n",
    "nonAlphaNumric=['\\'', '.', ',', '\\\"', ':', ';', '!', '@', '#', '$', '%', '^', '&',\n",
    "                 '*', '(', ')', '-', '_', '+', '=', '[', ']', '{', '}', '\\\\', '?', \n",
    "                 '/','>', '<', '|', ' '] \n",
    "def clean_text(text):\n",
    "    \"\"\"\n",
    "    takes text as input and returns cleaned text after tokenization, \n",
    "    stopwords removal and stemming\n",
    "    \"\"\"\n",
    "    tokens = word_tokenize(text) # creates text into list of words\n",
    "    words = [word.lower() for word in tokens if word not in nonAlphaNumric] # creates a list with words which are not stopwords\n",
    "    words = [PorterStemmer().stem(word) for word in words] # stems(remove suffixes and prefixes)  words\n",
    "    return \" \".join(words) # joins the list of cleaned words into a sentence string"
   ]
  },
  {
   "cell_type": "code",
   "execution_count": 62,
   "id": "d055ef07",
   "metadata": {
    "execution": {
     "iopub.execute_input": "2024-05-06T21:10:54.920181Z",
     "iopub.status.busy": "2024-05-06T21:10:54.919801Z",
     "iopub.status.idle": "2024-05-06T21:10:54.923591Z",
     "shell.execute_reply": "2024-05-06T21:10:54.922736Z"
    },
    "papermill": {
     "duration": 0.01857,
     "end_time": "2024-05-06T21:10:54.925850",
     "exception": false,
     "start_time": "2024-05-06T21:10:54.907280",
     "status": "completed"
    },
    "tags": []
   },
   "outputs": [],
   "source": [
    "df[\"Text\"] = df[\"Text\"].apply(clean_text)\n"
   ]
  },
  {
   "cell_type": "code",
   "execution_count": 66,
   "id": "7562f6a2",
   "metadata": {
    "execution": {
     "iopub.execute_input": "2024-05-06T21:10:54.949017Z",
     "iopub.status.busy": "2024-05-06T21:10:54.948171Z",
     "iopub.status.idle": "2024-05-06T21:10:59.088865Z",
     "shell.execute_reply": "2024-05-06T21:10:59.087035Z"
    },
    "papermill": {
     "duration": 4.155423,
     "end_time": "2024-05-06T21:10:59.091516",
     "exception": true,
     "start_time": "2024-05-06T21:10:54.936093",
     "status": "failed"
    },
    "tags": []
   },
   "outputs": [],
   "source": [
    "X = df['Text']\n",
    "\n",
    "cv = CountVectorizer() # ngram_range=(1,2)\n",
    "X = cv.fit_transform(X)\n",
    "\n",
    "# changing the datatype of the number into uint8 to consume less memory\n",
    "X = X.astype('uint8') # uint8 and float32\n",
    "y=df[\"language\"]\n",
    "X_train, X_test, y_train, y_test = train_test_split(X, y, test_size=0.2, random_state=42)"
   ]
  },
  {
   "cell_type": "code",
   "execution_count": 91,
   "id": "3368662b",
   "metadata": {},
   "outputs": [
    {
     "data": {
      "text/plain": [
       "(21859, 264808)"
      ]
     },
     "execution_count": 91,
     "metadata": {},
     "output_type": "execute_result"
    }
   ],
   "source": [
    "X.shape"
   ]
  },
  {
   "cell_type": "code",
   "execution_count": 67,
   "id": "e00950d5",
   "metadata": {
    "execution": {
     "iopub.execute_input": "2024-05-06T21:02:56.174859Z",
     "iopub.status.busy": "2024-05-06T21:02:56.174493Z",
     "iopub.status.idle": "2024-05-06T21:02:56.553158Z",
     "shell.execute_reply": "2024-05-06T21:02:56.551606Z",
     "shell.execute_reply.started": "2024-05-06T21:02:56.174831Z"
    },
    "papermill": {
     "duration": null,
     "end_time": null,
     "exception": null,
     "start_time": null,
     "status": "pending"
    },
    "tags": []
   },
   "outputs": [
    {
     "data": {
      "text/plain": [
       "MultinomialNB()"
      ]
     },
     "execution_count": 67,
     "metadata": {},
     "output_type": "execute_result"
    }
   ],
   "source": [
    "NB_model = MultinomialNB()\n",
    "NB_model.fit(X_train, y_train)"
   ]
  },
  {
   "cell_type": "code",
   "execution_count": 68,
   "id": "7c7eb68e",
   "metadata": {
    "execution": {
     "iopub.execute_input": "2024-05-06T21:02:56.555775Z",
     "iopub.status.busy": "2024-05-06T21:02:56.555261Z",
     "iopub.status.idle": "2024-05-06T21:02:56.598314Z",
     "shell.execute_reply": "2024-05-06T21:02:56.596880Z",
     "shell.execute_reply.started": "2024-05-06T21:02:56.555732Z"
    },
    "papermill": {
     "duration": null,
     "end_time": null,
     "exception": null,
     "start_time": null,
     "status": "pending"
    },
    "tags": []
   },
   "outputs": [
    {
     "data": {
      "text/plain": [
       "0.9540256175663312"
      ]
     },
     "execution_count": 68,
     "metadata": {},
     "output_type": "execute_result"
    }
   ],
   "source": [
    "y_pred = NB_model.predict(X_test)\n",
    "accuracy_score(y_test, y_pred)"
   ]
  },
  {
   "cell_type": "code",
   "execution_count": 55,
   "id": "e4fba3ef",
   "metadata": {
    "execution": {
     "iopub.execute_input": "2024-05-06T21:03:21.686131Z",
     "iopub.status.busy": "2024-05-06T21:03:21.685705Z",
     "iopub.status.idle": "2024-05-06T21:03:21.691719Z",
     "shell.execute_reply": "2024-05-06T21:03:21.690351Z",
     "shell.execute_reply.started": "2024-05-06T21:03:21.686102Z"
    },
    "papermill": {
     "duration": null,
     "end_time": null,
     "exception": null,
     "start_time": null,
     "status": "pending"
    },
    "tags": []
   },
   "outputs": [],
   "source": [
    "# # creating confusion matrix heatmap \n",
    "\n",
    "# cm = confusion_matrix(y_test, y_pred)\n",
    "\n",
    "# plt.figure(figsize=(12,10))\n",
    "# plt.title('Confusion Matrix - NB_model', Fontsize=20)\n",
    "# sns.heatmap(cm, xticklabels=lang_list, yticklabels=lang_list, cmap='rocket_r', linecolor='white', linewidth=.005)\n",
    "# plt.xlabel('Predicted Language')#, fontsize=15)\n",
    "# plt.ylabel('True Language')#, fontsize=15)\n",
    "# plt.show()"
   ]
  },
  {
   "cell_type": "code",
   "execution_count": 56,
   "id": "53ca69e2",
   "metadata": {
    "execution": {
     "iopub.execute_input": "2024-05-06T21:03:22.127618Z",
     "iopub.status.busy": "2024-05-06T21:03:22.127147Z",
     "iopub.status.idle": "2024-05-06T21:05:27.198606Z",
     "shell.execute_reply": "2024-05-06T21:05:27.197244Z",
     "shell.execute_reply.started": "2024-05-06T21:03:22.127580Z"
    },
    "papermill": {
     "duration": null,
     "end_time": null,
     "exception": null,
     "start_time": null,
     "status": "pending"
    },
    "tags": []
   },
   "outputs": [
    {
     "data": {
      "text/plain": [
       "LogisticRegression()"
      ]
     },
     "execution_count": 56,
     "metadata": {},
     "output_type": "execute_result"
    }
   ],
   "source": [
    "model=LogisticRegression()\n",
    "model.fit(X_train, y_train)"
   ]
  },
  {
   "cell_type": "code",
   "execution_count": 57,
   "id": "28665bea",
   "metadata": {
    "execution": {
     "iopub.execute_input": "2024-05-06T21:05:27.201106Z",
     "iopub.status.busy": "2024-05-06T21:05:27.200685Z",
     "iopub.status.idle": "2024-05-06T21:05:27.242856Z",
     "shell.execute_reply": "2024-05-06T21:05:27.241618Z",
     "shell.execute_reply.started": "2024-05-06T21:05:27.201070Z"
    },
    "papermill": {
     "duration": null,
     "end_time": null,
     "exception": null,
     "start_time": null,
     "status": "pending"
    },
    "tags": []
   },
   "outputs": [
    {
     "data": {
      "text/plain": [
       "0.9439615736505031"
      ]
     },
     "execution_count": 57,
     "metadata": {},
     "output_type": "execute_result"
    }
   ],
   "source": [
    "y_pred = model.predict(X_test)\n",
    "accuracy_score(y_test, y_pred)"
   ]
  },
  {
   "cell_type": "code",
   "execution_count": 58,
   "id": "3cac7a34",
   "metadata": {
    "execution": {
     "iopub.status.busy": "2024-05-06T21:02:58.012880Z",
     "iopub.status.idle": "2024-05-06T21:02:58.013509Z",
     "shell.execute_reply": "2024-05-06T21:02:58.013233Z",
     "shell.execute_reply.started": "2024-05-06T21:02:58.013208Z"
    },
    "papermill": {
     "duration": null,
     "end_time": null,
     "exception": null,
     "start_time": null,
     "status": "pending"
    },
    "tags": []
   },
   "outputs": [],
   "source": [
    "# # creating confusion matrix heatmap \n",
    "\n",
    "# cm = confusion_matrix(y_test, y_pred)\n",
    "\n",
    "# plt.figure(figsize=(12,10))\n",
    "# plt.title('Confusion Matrix - NB_model', Fontsize=20)\n",
    "# sns.heatmap(cm, xticklabels=lang_list, yticklabels=lang_list, cmap='rocket_r', linecolor='white', linewidth=.005)\n",
    "# plt.xlabel('Predicted Language', fontsize=15)\n",
    "# plt.ylabel('True Language', fontsize=15)\n",
    "# plt.show()"
   ]
  },
  {
   "cell_type": "code",
   "execution_count": null,
   "id": "fdb006e7",
   "metadata": {
    "papermill": {
     "duration": null,
     "end_time": null,
     "exception": null,
     "start_time": null,
     "status": "pending"
    },
    "tags": []
   },
   "outputs": [],
   "source": []
  },
  {
   "cell_type": "code",
   "execution_count": null,
   "id": "2c78c8a4",
   "metadata": {
    "execution": {
     "iopub.status.busy": "2024-05-06T21:07:24.762879Z",
     "iopub.status.idle": "2024-05-06T21:07:24.763384Z",
     "shell.execute_reply": "2024-05-06T21:07:24.763168Z",
     "shell.execute_reply.started": "2024-05-06T21:07:24.763148Z"
    },
    "papermill": {
     "duration": null,
     "end_time": null,
     "exception": null,
     "start_time": null,
     "status": "pending"
    },
    "tags": []
   },
   "outputs": [],
   "source": []
  },
  {
   "cell_type": "code",
   "execution_count": null,
   "id": "c399b8f1",
   "metadata": {
    "execution": {
     "iopub.status.busy": "2024-05-06T21:02:58.019552Z",
     "iopub.status.idle": "2024-05-06T21:02:58.020146Z",
     "shell.execute_reply": "2024-05-06T21:02:58.019869Z",
     "shell.execute_reply.started": "2024-05-06T21:02:58.019837Z"
    },
    "papermill": {
     "duration": null,
     "end_time": null,
     "exception": null,
     "start_time": null,
     "status": "pending"
    },
    "tags": []
   },
   "outputs": [],
   "source": []
  },
  {
   "cell_type": "code",
   "execution_count": 86,
   "id": "28b3dcaa",
   "metadata": {
    "execution": {
     "iopub.execute_input": "2024-05-06T21:09:01.369595Z",
     "iopub.status.busy": "2024-05-06T21:09:01.369055Z",
     "iopub.status.idle": "2024-05-06T21:09:01.403158Z",
     "shell.execute_reply": "2024-05-06T21:09:01.402124Z",
     "shell.execute_reply.started": "2024-05-06T21:09:01.369560Z"
    },
    "papermill": {
     "duration": null,
     "end_time": null,
     "exception": null,
     "start_time": null,
     "status": "pending"
    },
    "tags": []
   },
   "outputs": [
    {
     "data": {
      "text/plain": [
       "'Estonian'"
      ]
     },
     "execution_count": 86,
     "metadata": {},
     "output_type": "execute_result"
    }
   ],
   "source": [
    "\n",
    "sent = \"Bien sûr ! Voici un court paragraphe en français :Le soleil déclinait à l'horizon, projetant de longues ombres à travers la prairie tranquille. Une brise légère agitait les hautes herbes, emportant avec elle le parfum des fleurs sauvages. Les oiseaux gazouillaient doucement au loin alors que les derniers rayons de soleil peignaient le ciel de teintes orange et rose. C'était un moment serein, un aperçu fugace de la beauté de la nature qui murmurait la paix et l'harmonie.\"\n",
    "\n",
    "sent = cv.transform([sent])\n",
    "ans = NB_model.predict(sent)\n",
    "unique_decoded_languages[ans[0]]"
   ]
  },
  {
   "cell_type": "code",
   "execution_count": 90,
   "id": "3102a971",
   "metadata": {},
   "outputs": [
    {
     "name": "stdout",
     "output_type": "stream",
     "text": [
      "aastal, aastatel, aga, gottwaldi, gottwaldov, gotvald, hakka, harkivi, hilja, ilmutama, ja, kandi, klement, kremeer, lagunemis, liiga, linn, mausoleumi, mausoleumist, nime, ning, oblasti, oli, oskamatult, paigutati, palsameer, palsameeritud, surnukeha, ta, tundemärk, ukraina, viidi, zlíni, zmiivi, ära, –\n",
      "aastal aastatel aga gottwaldi gottwaldov gotvald hakka harkivi hilja ilmutama ja kandi klement kremeer lagunemis liiga linn mausoleumi mausoleumist nime ning oblasti oli oskamatult paigutati palsameer palsameeritud surnukeha ta tundemärk ukraina viidi zlíni zmiivi ära –\n"
     ]
    },
    {
     "data": {
      "text/plain": [
       "(45, 36)"
      ]
     },
     "execution_count": 90,
     "metadata": {},
     "output_type": "execute_result"
    }
   ],
   "source": [
    "import numpy as np\n",
    "token_sequence = str.split(df.Text[0]) \n",
    "vocab = sorted(set(token_sequence)) \n",
    "print(', '.join(vocab)) \n",
    "\n",
    "num_tokens = len(token_sequence)\n",
    "vocab_size = len(vocab)\n",
    "onehot_vectors = np.zeros((num_tokens,vocab_size), int) \n",
    "for i, word in enumerate(token_sequence):\n",
    "    onehot_vectors[i, vocab.index(word)] = 1 \n",
    "print(' '.join(vocab))\n",
    "onehot_vectors.shape"
   ]
  },
  {
   "cell_type": "code",
   "execution_count": 88,
   "id": "400d5e2e",
   "metadata": {
    "papermill": {
     "duration": null,
     "end_time": null,
     "exception": null,
     "start_time": null,
     "status": "pending"
    },
    "tags": []
   },
   "outputs": [
    {
     "data": {
      "text/plain": [
       "'klement gottwaldi surnukeha palsameer ning paigutati mausoleumi surnukeha oli aga liiga hilja ja oskamatult palsameeritud ning hakka ilmutama lagunemis tundemärk aastal viidi ta surnukeha mausoleumist ära ja kremeer zlíni linn kandi aastatel – nime gottwaldov ukraina harkivi oblasti kandi zmiivi linn aastatel – nime gotvald'"
      ]
     },
     "execution_count": 88,
     "metadata": {},
     "output_type": "execute_result"
    }
   ],
   "source": [
    "df.Text[0]"
   ]
  }
 ],
 "metadata": {
  "kaggle": {
   "accelerator": "none",
   "dataSources": [
    {
     "datasetId": 94159,
     "sourceId": 218863,
     "sourceType": "datasetVersion"
    }
   ],
   "dockerImageVersionId": 30698,
   "isGpuEnabled": false,
   "isInternetEnabled": true,
   "language": "python",
   "sourceType": "notebook"
  },
  "kernelspec": {
   "display_name": "Python 3",
   "language": "python",
   "name": "python3"
  },
  "language_info": {
   "codemirror_mode": {
    "name": "ipython",
    "version": 3
   },
   "file_extension": ".py",
   "mimetype": "text/x-python",
   "name": "python",
   "nbconvert_exporter": "python",
   "pygments_lexer": "ipython3",
   "version": "3.10.6"
  },
  "papermill": {
   "default_parameters": {},
   "duration": 12.631909,
   "end_time": "2024-05-06T21:10:59.925561",
   "environment_variables": {},
   "exception": true,
   "input_path": "__notebook__.ipynb",
   "output_path": "__notebook__.ipynb",
   "parameters": {},
   "start_time": "2024-05-06T21:10:47.293652",
   "version": "2.5.0"
  }
 },
 "nbformat": 4,
 "nbformat_minor": 5
}
